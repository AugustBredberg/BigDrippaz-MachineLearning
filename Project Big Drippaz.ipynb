{
 "cells": [
  {
   "cell_type": "code",
   "execution_count": 410,
   "metadata": {},
   "outputs": [],
   "source": [
    "import pandas as pd\n",
    "import numpy as np\n",
    "from sklearn import linear_model\n",
    "from sklearn.model_selection import train_test_split\n",
    "from sklearn.ensemble import RandomForestClassifier"
   ]
  },
  {
   "cell_type": "code",
   "execution_count": 411,
   "metadata": {},
   "outputs": [
    {
     "name": "stdout",
     "output_type": "stream",
     "text": [
      "153\n"
     ]
    },
    {
     "data": {
      "text/html": [
       "<div>\n",
       "<style scoped>\n",
       "    .dataframe tbody tr th:only-of-type {\n",
       "        vertical-align: middle;\n",
       "    }\n",
       "\n",
       "    .dataframe tbody tr th {\n",
       "        vertical-align: top;\n",
       "    }\n",
       "\n",
       "    .dataframe thead th {\n",
       "        text-align: right;\n",
       "    }\n",
       "</style>\n",
       "<table border=\"1\" class=\"dataframe\">\n",
       "  <thead>\n",
       "    <tr style=\"text-align: right;\">\n",
       "      <th></th>\n",
       "      <th>age</th>\n",
       "      <th>sex</th>\n",
       "      <th>cp</th>\n",
       "      <th>trestbps</th>\n",
       "      <th>chol</th>\n",
       "      <th>fbs</th>\n",
       "      <th>restecg</th>\n",
       "      <th>thalach</th>\n",
       "      <th>exang</th>\n",
       "      <th>oldpeak</th>\n",
       "      <th>slope</th>\n",
       "      <th>ca</th>\n",
       "      <th>thal</th>\n",
       "      <th>num</th>\n",
       "    </tr>\n",
       "  </thead>\n",
       "  <tbody>\n",
       "    <tr>\n",
       "      <th>0</th>\n",
       "      <td>58.0</td>\n",
       "      <td>0.0</td>\n",
       "      <td>4.0</td>\n",
       "      <td>130.0</td>\n",
       "      <td>197.0</td>\n",
       "      <td>0.0</td>\n",
       "      <td>0.0</td>\n",
       "      <td>131.0</td>\n",
       "      <td>0.0</td>\n",
       "      <td>0.6</td>\n",
       "      <td>2.0</td>\n",
       "      <td>0.0</td>\n",
       "      <td>3.0</td>\n",
       "      <td>0</td>\n",
       "    </tr>\n",
       "    <tr>\n",
       "      <th>1</th>\n",
       "      <td>57.0</td>\n",
       "      <td>0.0</td>\n",
       "      <td>4.0</td>\n",
       "      <td>120.0</td>\n",
       "      <td>354.0</td>\n",
       "      <td>0.0</td>\n",
       "      <td>0.0</td>\n",
       "      <td>163.0</td>\n",
       "      <td>1.0</td>\n",
       "      <td>0.6</td>\n",
       "      <td>1.0</td>\n",
       "      <td>0.0</td>\n",
       "      <td>3.0</td>\n",
       "      <td>0</td>\n",
       "    </tr>\n",
       "    <tr>\n",
       "      <th>2</th>\n",
       "      <td>53.0</td>\n",
       "      <td>1.0</td>\n",
       "      <td>4.0</td>\n",
       "      <td>142.0</td>\n",
       "      <td>226.0</td>\n",
       "      <td>0.0</td>\n",
       "      <td>2.0</td>\n",
       "      <td>111.0</td>\n",
       "      <td>1.0</td>\n",
       "      <td>0.0</td>\n",
       "      <td>1.0</td>\n",
       "      <td>0.0</td>\n",
       "      <td>7.0</td>\n",
       "      <td>0</td>\n",
       "    </tr>\n",
       "    <tr>\n",
       "      <th>3</th>\n",
       "      <td>51.0</td>\n",
       "      <td>0.0</td>\n",
       "      <td>4.0</td>\n",
       "      <td>130.0</td>\n",
       "      <td>305.0</td>\n",
       "      <td>0.0</td>\n",
       "      <td>0.0</td>\n",
       "      <td>142.0</td>\n",
       "      <td>1.0</td>\n",
       "      <td>1.2</td>\n",
       "      <td>2.0</td>\n",
       "      <td>0.0</td>\n",
       "      <td>7.0</td>\n",
       "      <td>2</td>\n",
       "    </tr>\n",
       "    <tr>\n",
       "      <th>4</th>\n",
       "      <td>54.0</td>\n",
       "      <td>1.0</td>\n",
       "      <td>2.0</td>\n",
       "      <td>192.0</td>\n",
       "      <td>283.0</td>\n",
       "      <td>0.0</td>\n",
       "      <td>2.0</td>\n",
       "      <td>195.0</td>\n",
       "      <td>0.0</td>\n",
       "      <td>0.0</td>\n",
       "      <td>1.0</td>\n",
       "      <td>1.0</td>\n",
       "      <td>7.0</td>\n",
       "      <td>1</td>\n",
       "    </tr>\n",
       "    <tr>\n",
       "      <th>...</th>\n",
       "      <td>...</td>\n",
       "      <td>...</td>\n",
       "      <td>...</td>\n",
       "      <td>...</td>\n",
       "      <td>...</td>\n",
       "      <td>...</td>\n",
       "      <td>...</td>\n",
       "      <td>...</td>\n",
       "      <td>...</td>\n",
       "      <td>...</td>\n",
       "      <td>...</td>\n",
       "      <td>...</td>\n",
       "      <td>...</td>\n",
       "      <td>...</td>\n",
       "    </tr>\n",
       "    <tr>\n",
       "      <th>148</th>\n",
       "      <td>58.0</td>\n",
       "      <td>1.0</td>\n",
       "      <td>2.0</td>\n",
       "      <td>120.0</td>\n",
       "      <td>284.0</td>\n",
       "      <td>0.0</td>\n",
       "      <td>2.0</td>\n",
       "      <td>160.0</td>\n",
       "      <td>0.0</td>\n",
       "      <td>1.8</td>\n",
       "      <td>2.0</td>\n",
       "      <td>0.0</td>\n",
       "      <td>3.0</td>\n",
       "      <td>1</td>\n",
       "    </tr>\n",
       "    <tr>\n",
       "      <th>149</th>\n",
       "      <td>35.0</td>\n",
       "      <td>0.0</td>\n",
       "      <td>4.0</td>\n",
       "      <td>138.0</td>\n",
       "      <td>183.0</td>\n",
       "      <td>0.0</td>\n",
       "      <td>0.0</td>\n",
       "      <td>182.0</td>\n",
       "      <td>0.0</td>\n",
       "      <td>1.4</td>\n",
       "      <td>1.0</td>\n",
       "      <td>0.0</td>\n",
       "      <td>3.0</td>\n",
       "      <td>0</td>\n",
       "    </tr>\n",
       "    <tr>\n",
       "      <th>150</th>\n",
       "      <td>48.0</td>\n",
       "      <td>1.0</td>\n",
       "      <td>3.0</td>\n",
       "      <td>124.0</td>\n",
       "      <td>255.0</td>\n",
       "      <td>1.0</td>\n",
       "      <td>0.0</td>\n",
       "      <td>175.0</td>\n",
       "      <td>0.0</td>\n",
       "      <td>0.0</td>\n",
       "      <td>1.0</td>\n",
       "      <td>2.0</td>\n",
       "      <td>3.0</td>\n",
       "      <td>0</td>\n",
       "    </tr>\n",
       "    <tr>\n",
       "      <th>151</th>\n",
       "      <td>48.0</td>\n",
       "      <td>1.0</td>\n",
       "      <td>4.0</td>\n",
       "      <td>124.0</td>\n",
       "      <td>274.0</td>\n",
       "      <td>0.0</td>\n",
       "      <td>2.0</td>\n",
       "      <td>166.0</td>\n",
       "      <td>0.0</td>\n",
       "      <td>0.5</td>\n",
       "      <td>2.0</td>\n",
       "      <td>0.0</td>\n",
       "      <td>7.0</td>\n",
       "      <td>3</td>\n",
       "    </tr>\n",
       "    <tr>\n",
       "      <th>152</th>\n",
       "      <td>57.0</td>\n",
       "      <td>1.0</td>\n",
       "      <td>4.0</td>\n",
       "      <td>150.0</td>\n",
       "      <td>276.0</td>\n",
       "      <td>0.0</td>\n",
       "      <td>2.0</td>\n",
       "      <td>112.0</td>\n",
       "      <td>1.0</td>\n",
       "      <td>0.6</td>\n",
       "      <td>2.0</td>\n",
       "      <td>1.0</td>\n",
       "      <td>6.0</td>\n",
       "      <td>1</td>\n",
       "    </tr>\n",
       "  </tbody>\n",
       "</table>\n",
       "<p>153 rows × 14 columns</p>\n",
       "</div>"
      ],
      "text/plain": [
       "      age  sex   cp  trestbps   chol  fbs  restecg  thalach  exang  oldpeak  \\\n",
       "0    58.0  0.0  4.0     130.0  197.0  0.0      0.0    131.0    0.0      0.6   \n",
       "1    57.0  0.0  4.0     120.0  354.0  0.0      0.0    163.0    1.0      0.6   \n",
       "2    53.0  1.0  4.0     142.0  226.0  0.0      2.0    111.0    1.0      0.0   \n",
       "3    51.0  0.0  4.0     130.0  305.0  0.0      0.0    142.0    1.0      1.2   \n",
       "4    54.0  1.0  2.0     192.0  283.0  0.0      2.0    195.0    0.0      0.0   \n",
       "..    ...  ...  ...       ...    ...  ...      ...      ...    ...      ...   \n",
       "148  58.0  1.0  2.0     120.0  284.0  0.0      2.0    160.0    0.0      1.8   \n",
       "149  35.0  0.0  4.0     138.0  183.0  0.0      0.0    182.0    0.0      1.4   \n",
       "150  48.0  1.0  3.0     124.0  255.0  1.0      0.0    175.0    0.0      0.0   \n",
       "151  48.0  1.0  4.0     124.0  274.0  0.0      2.0    166.0    0.0      0.5   \n",
       "152  57.0  1.0  4.0     150.0  276.0  0.0      2.0    112.0    1.0      0.6   \n",
       "\n",
       "     slope   ca  thal  num  \n",
       "0      2.0  0.0   3.0    0  \n",
       "1      1.0  0.0   3.0    0  \n",
       "2      1.0  0.0   7.0    0  \n",
       "3      2.0  0.0   7.0    2  \n",
       "4      1.0  1.0   7.0    1  \n",
       "..     ...  ...   ...  ...  \n",
       "148    2.0  0.0   3.0    1  \n",
       "149    1.0  0.0   3.0    0  \n",
       "150    1.0  2.0   3.0    0  \n",
       "151    2.0  0.0   7.0    3  \n",
       "152    2.0  1.0   6.0    1  \n",
       "\n",
       "[153 rows x 14 columns]"
      ]
     },
     "execution_count": 411,
     "metadata": {},
     "output_type": "execute_result"
    }
   ],
   "source": [
    "#age. The age of the patient.\n",
    "#sex. The gender of the patient. (1 = male, 0 = female).\n",
    "#cp. Type of chest pain. (1 = typical angina, 2 = atypical angina, 3 = non — anginal pain, 4 = asymptotic).\n",
    "#trestbps. Resting blood pressure in mmHg.\n",
    "#chol. Serum Cholestero in mg/dl.\n",
    "#fbs. Fasting Blood Sugar. (1 = fasting blood sugar is more than 120mg/dl, 0 = otherwise).\n",
    "#restecg. Resting ElectroCardioGraphic results (0 = normal, 1 = ST-T wave abnormality, 2 = left ventricular hyperthrophy).\n",
    "#thalach. Max heart rate achieved.\n",
    "#exang. Exercise induced angina (1 = yes, 0 = no).\n",
    "#oldpeak. ST depression induced by exercise relative to rest.\n",
    "#slope. Peak exercise ST segment (1 = upsloping, 2 = flat, 3 = downsloping).\n",
    "#ca. Number of major vessels (0–3) colored by flourosopy.\n",
    "#thal. Thalassemia (3 = normal, 6 = fixed defect, 7 = reversible defect).\n",
    "#num. Diagnosis of heart disease (0 = absence, 1, 2, 3, 4 = present).\n",
    "\n",
    "column_names = [\"age\", \"sex\", \"cp\", \"trestbps\", \"chol\", \"fbs\", \"restecg\", \"thalach\", \"exang\", \"oldpeak\", \"slope\",\n",
    "               \"ca\", \"thal\", \"num\"]\n",
    "\n",
    "test_set = pd.read_csv(\"processed.cleveland.test.data\", delimiter=\",\")\n",
    "train_set = pd.read_csv(\"processed.cleveland.train.data\", delimiter=\",\")\n",
    "\n",
    "train_set.columns = column_names\n",
    "test_set.columns = (column_names[:-1])\n",
    "\n",
    "x_test = test_set\n",
    "\n",
    "y_train = train_set['num']\n",
    "x_train = train_set.drop(columns=['num']).copy()\n",
    "\n",
    "\n",
    "print(len(train_set))\n",
    "train_set\n",
    "\n",
    "# GÖR ONE HOT PÅ y?"
   ]
  },
  {
   "cell_type": "code",
   "execution_count": 412,
   "metadata": {
    "scrolled": true
   },
   "outputs": [
    {
     "name": "stdout",
     "output_type": "stream",
     "text": [
      "[1.         0.         2.         3.         0.73154362]\n",
      "[0.         1.         0.61333333 3.         2.        ]\n",
      "[7.         3.         6.         4.81756757]\n",
      "[1. 0. 2. 3.]\n",
      "[0. 1. 3. 2.]\n",
      "[7. 3. 6.]\n"
     ]
    }
   ],
   "source": [
    "### cell för att ersätta tomma eller felaktiga värden med ett medelvärde \n",
    "\n",
    "#[f(x) if condition else g(x) for x in sequence]\n",
    "\n",
    "for col in x_train.columns:\n",
    "    x_train[col] = [float(x) if x != '?' else np.NaN for x in x_train[col]]\n",
    "x_train.fillna((x_train.mean()), inplace=True)\n",
    "    \n",
    "#x_train.apply(lambda x: x.fillna(x.mean()),axis=0)\n",
    "\n",
    "for col in x_test.columns:\n",
    "    x_test[col] = [float(x) if x != '?' else np.NaN for x in x_test[col]]\n",
    "    \n",
    "x_test.fillna((x_test.mean()), inplace=True)    \n",
    "\n",
    "#print(x_train.values())\n",
    "print(x_test['ca'].unique())\n",
    "print(x_train['ca'].unique())\n",
    "print(x_test['thal'].unique())\n",
    "\n",
    "# do mean of missing categorical values being non-integer\n",
    "x_test = x_test.round({'thal': 0})\n",
    "x_test['thal'][x_test['thal'] == 5] = 6\n",
    "#x_test['ca'][x_test['ca'] == 5] = 1\n",
    "x_test = x_test.round({'ca': 0})\n",
    "x_train = x_train.round({'ca': 0})\n",
    "\n",
    "print(x_test['ca'].unique())\n",
    "print(x_train['ca'].unique())\n",
    "print(x_test['thal'].unique())"
   ]
  },
  {
   "cell_type": "code",
   "execution_count": 413,
   "metadata": {},
   "outputs": [],
   "source": [
    "# ONE HOT ENCODING CATEGORICAL COLUMNS\n",
    "x_train_encoded = pd.get_dummies(x_train, columns=['sex', 'cp', 'fbs', 'restecg', 'exang', 'slope', 'ca', 'thal'])\n",
    "x_test_encoded = pd.get_dummies(x_test, columns=['sex', 'cp', 'fbs', 'restecg', 'exang', 'slope', 'ca', 'thal'])\n"
   ]
  },
  {
   "cell_type": "code",
   "execution_count": 414,
   "metadata": {},
   "outputs": [
    {
     "data": {
      "image/png": "[encoded data removed]",
      "text/plain": [
       "<Figure size 432x288 with 1 Axes>"
      ]
     },
     "metadata": {
      "needs_background": "light"
     },
     "output_type": "display_data"
    }
   ],
   "source": [
    "### cell för att kolla vilken data som är viktigast\n",
    "import seaborn as sns\n",
    "import matplotlib.pyplot as plt\n",
    "clf_before_dropping = RandomForestClassifier(random_state=42).fit(x_train, y_train)\n",
    "\n",
    "\n",
    "feature_scores = pd.Series(clf_before_dropping.feature_importances_, index=x_train.columns).sort_values(ascending=False)\n",
    "feature_scores\n",
    "\n",
    "\n",
    "sns.barplot(x=feature_scores, y=feature_scores.index, )\n",
    "plt.title(\"Importance of each Feature for the Random Forest classifier\")\n",
    "plt.xlabel('Importance')\n",
    "plt.ylabel('Features')\n",
    "plt.show()\n",
    "\n",
    "### Vi kan se att fbs och restegc inte är särskilt viktiga \n",
    "### vi droppar dem :)\n",
    "\n",
    "# x_train = x_train.drop(['fbs'], axis=1)\n",
    "# x_test = x_test.drop(['fbs'], axis=1)\n",
    "\n",
    "# x_train = x_train.drop(['restecg'], axis=1)\n",
    "# x_test = x_test.drop(['restecg'], axis=1)\n",
    "\n"
   ]
  },
  {
   "cell_type": "code",
   "execution_count": 415,
   "metadata": {},
   "outputs": [],
   "source": [
    "### cell för att normalisera datan! \n",
    "from sklearn import preprocessing\n",
    "from sklearn.preprocessing import scale\n",
    "\n",
    "X_train_scaled = scale(x_train_encoded)\n",
    "X_test_scaled = scale(x_test_encoded)\n",
    "#y_train = scale(y_train)\n",
    "\n",
    "#x_train = preprocessing.normalize(x_train, norm='l2')\n",
    "#x_test = preprocessing.normalize(x_test, norm='l1')\n",
    "#y_train = preprocessing.normalize(x_train, norm='l2', axis=0)\n",
    "#y_train = [x.mean() for x in y_train]\n",
    "\n",
    "### inte manipulera med testdatan, AJABAJA det kan bli biased. \n",
    "\n",
    "#x_test = preprocessing.normalize(x_test, norm='l2')\n",
    "\n",
    "#d = preprocessing.normalize(x_train, axis=0)\n",
    "#x_train = pd.DataFrame(d, columns=column_names[:-1])\n",
    "#x_train.head()\n",
    "\n",
    "# manuell proprocessing\n",
    "# for col in x_train.columns :\n",
    "#     mean = x_train[col].mean()\n",
    "#     x_train[col] = x_train[col] - mean \n",
    "#     x_test[col] = x_test[col] - mean\n",
    "#     sigma = 1/(len(x_train[col])) * sum(x_train[col]**2)\n",
    "#     x_train[col] = x_train[col] / sigma\n",
    "#     x_test[col] = x_test[col] / sigma\n",
    "\n",
    "\n",
    "# print(x_train)"
   ]
  },
  {
   "cell_type": "code",
   "execution_count": 416,
   "metadata": {},
   "outputs": [
    {
     "data": {
      "text/plain": [
       "SVC(gamma='auto')"
      ]
     },
     "execution_count": 416,
     "metadata": {},
     "output_type": "execute_result"
    }
   ],
   "source": [
    "clf_svm = SVC(gamma='auto')\n",
    "clf_svm.fit(X_train_scaled, y_train)"
   ]
  },
  {
   "cell_type": "code",
   "execution_count": 417,
   "metadata": {},
   "outputs": [
    {
     "data": {
      "text/plain": [
       "<sklearn.metrics._plot.confusion_matrix.ConfusionMatrixDisplay at 0x7f666f0da0d0>"
      ]
     },
     "execution_count": 417,
     "metadata": {},
     "output_type": "execute_result"
    },
    {
     "data": {
      "image/png": "[encoded data removed]",
      "text/plain": [
       "<Figure size 432x288 with 2 Axes>"
      ]
     },
     "metadata": {
      "needs_background": "light"
     },
     "output_type": "display_data"
    }
   ],
   "source": [
    "from sklearn.metrics import plot_confusion_matrix\n",
    "plot_confusion_matrix(clf_svm, X_train_scaled, y_train, values_format='d') #, display_labels=[\"did not defualt\", \"Defaulted\"])"
   ]
  },
  {
   "cell_type": "code",
   "execution_count": 418,
   "metadata": {},
   "outputs": [
    {
     "name": "stdout",
     "output_type": "stream",
     "text": [
      "{'C': 100, 'gamma': 0.0001, 'kernel': 'rbf'}\n"
     ]
    }
   ],
   "source": [
    "## CV with GridSearchCV\n",
    "from sklearn.model_selection import GridSearchCV\n",
    "\n",
    "param_grid = [\n",
    "    {'C': [0.5, 1, 10, 100], # NOTE: Values for C must be > 0\n",
    "     'gamma': ['scale', 1, 0.1, 0.01, 0.001, 0.0001],\n",
    "     'kernel': ['rbf']}, \n",
    "]\n",
    "## NOTE: We are including C=1 and gamma='scale'\n",
    "## as possible choices since they are the default values\n",
    "\n",
    "optimal_params = GridSearchCV(\n",
    "    SVC(),\n",
    "    param_grid,\n",
    "    cv = 5,\n",
    "    scoring='accuracy',\n",
    "    verbose=0\n",
    ")\n",
    "\n",
    "optimal_params.fit(X_train_scaled, y_train)\n",
    "print(optimal_params.best_params_)"
   ]
  },
  {
   "cell_type": "code",
   "execution_count": 419,
   "metadata": {},
   "outputs": [
    {
     "data": {
      "text/plain": [
       "SVC(C=100, gamma=0.001)"
      ]
     },
     "execution_count": 419,
     "metadata": {},
     "output_type": "execute_result"
    }
   ],
   "source": [
    "clf_svm = SVC(C=100, gamma=0.001)\n",
    "clf_svm.fit(X_train_scaled, y_train)"
   ]
  },
  {
   "cell_type": "code",
   "execution_count": 420,
   "metadata": {},
   "outputs": [
    {
     "data": {
      "text/plain": [
       "<sklearn.metrics._plot.confusion_matrix.ConfusionMatrixDisplay at 0x7f666cc527c0>"
      ]
     },
     "execution_count": 420,
     "metadata": {},
     "output_type": "execute_result"
    },
    {
     "data": {
      "image/png": "[encoded data removed]",
      "text/plain": [
       "<Figure size 432x288 with 2 Axes>"
      ]
     },
     "metadata": {
      "needs_background": "light"
     },
     "output_type": "display_data"
    }
   ],
   "source": [
    "from sklearn.metrics import plot_confusion_matrix\n",
    "plot_confusion_matrix(clf_svm, X_train_scaled, y_train, values_format='d')"
   ]
  },
  {
   "cell_type": "code",
   "execution_count": 421,
   "metadata": {},
   "outputs": [
    {
     "name": "stdout",
     "output_type": "stream",
     "text": [
      "mean CV score SVC:  0.5225806451612902\n"
     ]
    }
   ],
   "source": [
    "from sklearn.pipeline import make_pipeline\n",
    "from sklearn.preprocessing import StandardScaler\n",
    "from sklearn.ensemble import BaggingRegressor\n",
    "from sklearn.datasets import make_regression\n",
    "from sklearn.svm import SVR\n",
    "from sklearn.svm import SVC\n",
    "from sklearn.model_selection import cross_val_score\n",
    "\n",
    "#########################################################################\n",
    "clf_svm = SVC(C=100, gamma=0.001)\n",
    "cv_score_svc = cross_val_score(clf_svm, X_train_scaled, y_train)\n",
    "print(\"mean CV score SVC: \", np.mean(cv_score_svc))\n",
    "#########################################################################"
   ]
  },
  {
   "cell_type": "code",
   "execution_count": 422,
   "metadata": {},
   "outputs": [
    {
     "data": {
      "image/png": "[encoded data removed]",
      "text/plain": [
       "<Figure size 432x288 with 1 Axes>"
      ]
     },
     "metadata": {
      "needs_background": "light"
     },
     "output_type": "display_data"
    }
   ],
   "source": [
    "# START OF PCA AND SCREE PLOT\n",
    "\n",
    "pca = PCA()\n",
    "X_train_pca = pca.fit_transform(X_train_scaled)\n",
    "\n",
    "per_var = np.round(pca.explained_variance_ratio_*100, decimals=1)\n",
    "labels = [str(x) for x in range(1, len(per_var)+1)]\n",
    "\n",
    "plt.bar(x=range(1, len(per_var)+1), height=per_var)\n",
    "plt.tick_params(\n",
    "    axis='x',\n",
    "    which='both',\n",
    "    bottom=False,\n",
    "    top=False,\n",
    "    labelbottom=False)\n",
    "plt.ylabel('Percentage of Explained Variance')\n",
    "plt.xlabel('Principal Components')\n",
    "plt.title('Scree Plot')\n",
    "plt.show()"
   ]
  },
  {
   "cell_type": "code",
   "execution_count": 423,
   "metadata": {},
   "outputs": [
    {
     "name": "stdout",
     "output_type": "stream",
     "text": [
      "{'C': 1000, 'gamma': 0.0001, 'kernel': 'rbf'}\n"
     ]
    }
   ],
   "source": [
    "#\n",
    "train_pc1_coords = X_train_pca[:, 0] # x-axis coordinates after PCA\n",
    "train_pc2_coords = X_train_pca[:, 1] # y-axis coordinates after PCA\n",
    "\n",
    "# Center and scale the PCs\n",
    "pca_train_scaled = scale(np.column_stack((train_pc1_coords, train_pc2_coords)))\n",
    "\n",
    "param_grid = [\n",
    "    {'C': [1, 10, 100, 1000], # NOTE: Values for C must be > 0\n",
    "     'gamma': ['scale', 1, 0.1, 0.01, 0.001, 0.0001],\n",
    "     'kernel': ['rbf']}, \n",
    "]\n",
    "## NOTE: We are including C=1 and gamma='scale'\n",
    "## as possible choices since they are the default values\n",
    "\n",
    "optimal_params = GridSearchCV(\n",
    "    SVC(),\n",
    "    param_grid,\n",
    "    cv = 5,\n",
    "    scoring='accuracy',\n",
    "    verbose=0\n",
    ")\n",
    "\n",
    "optimal_params.fit(pca_train_scaled, y_train)\n",
    "print(optimal_params.best_params_)"
   ]
  },
  {
   "cell_type": "code",
   "execution_count": 424,
   "metadata": {},
   "outputs": [
    {
     "name": "stdout",
     "output_type": "stream",
     "text": [
      "mean CV score SVC:  0.5694623655913978\n"
     ]
    }
   ],
   "source": [
    "#########################################################################\n",
    "clf_svm = SVC(C=1000, gamma=0.0001)\n",
    "cv_score_svc = cross_val_score(clf_svm, pca_train_scaled, y_train)\n",
    "print(\"mean CV score SVC: \", np.mean(cv_score_svc))\n",
    "#########################################################################\n",
    "\n",
    "# import matplotlib.colors as colors\n",
    "\n",
    "# clf_svm = SVC(C=1000, gamma=0.0001)\n",
    "# clf_svm.fit(pca_train_scaled, y_train)\n",
    "\n",
    "# # Transform the test dataset with the PCA\n",
    "# X_test_pca = pca.transform(X_train_scaled)\n",
    "\n",
    "# test_pc1_coords = X_test_pca[:, 0]\n",
    "# test_pc2_coords = X_test_pca[:, 1]\n",
    "\n",
    "# x_min = test_pc1_coords.min() - 1\n",
    "# x_max = test_pc1_coords.max() + 1\n",
    "\n",
    "# y_min = test_pc2_coords.min() - 1\n",
    "# y_max = test_pc2_coords.min() + 1\n",
    "\n",
    "# xx, yy = np.meshgrid(np.arange(start=x_min, stop=x_max, step=0.1),\n",
    "#                      np.arange(start=y_min, stop=y_max, step=0.1))\n",
    "\n",
    "# Z = clf_svm.predict(np.column_stack((xx.ravel(), yy.ravel())))\n",
    "\n",
    "# Z = Z.reshape(xx.shape)\n",
    "\n",
    "# fig, ax = plt.subplots(figsize=(10,10))\n",
    "# ax.contour(xx, yy, Z, alpha=0.1)\n",
    "# cmap = colors.ListedColormap(['#e41a1c', '#4daf4a'])\n",
    "\n",
    "# scatter = ax.scatter(test_pc1_coords, test_pc2_coords, c=y_train,\n",
    "#                      cmap=cmap,\n",
    "#                      s=100,\n",
    "#                      edgecolors='k',\n",
    "#                      alpha=0.7)\n",
    "\n",
    "# legend = ax.legend(scatter.legend_elements()[0],\n",
    "#                    scatter.legend_elements()[1],\n",
    "#                    loc = \"upper right\")\n",
    "\n",
    "# legend.get_texts()[0].set_text(\"No Default\")\n",
    "# legend.get_texts()[1].set_text(\"Yes Default\")\n",
    "\n",
    "# ax.set_ylabel('PC2')\n",
    "# ax.set_xlabel('PC1')\n",
    "# ax.set_title('Decision sufaceusing the PCA trasformed/projected features')\n",
    "\n",
    "# plt.show()"
   ]
  },
  {
   "cell_type": "code",
   "execution_count": 425,
   "metadata": {},
   "outputs": [
    {
     "ename": "AttributeError",
     "evalue": "predict_proba is not available when  probability=False",
     "output_type": "error",
     "traceback": [
      "\u001b[0;31m-------------------------------------------------------------------\u001b[0m",
      "\u001b[0;31mAttributeError\u001b[0m                    Traceback (most recent call last)",
      "\u001b[0;32m<ipython-input-425-021a151734a1>\u001b[0m in \u001b[0;36m<module>\u001b[0;34m\u001b[0m\n\u001b[1;32m      8\u001b[0m \u001b[0;34m\u001b[0m\u001b[0m\n\u001b[1;32m      9\u001b[0m \u001b[0;34m\u001b[0m\u001b[0m\n\u001b[0;32m---> 10\u001b[0;31m \u001b[0my_pred_proba\u001b[0m \u001b[0;34m=\u001b[0m \u001b[0mclf\u001b[0m\u001b[0;34m.\u001b[0m\u001b[0mpredict_proba\u001b[0m\u001b[0;34m(\u001b[0m\u001b[0mx_test\u001b[0m\u001b[0;34m)\u001b[0m\u001b[0;34m\u001b[0m\u001b[0;34m\u001b[0m\u001b[0m\n\u001b[0m\u001b[1;32m     11\u001b[0m \u001b[0;34m\u001b[0m\u001b[0m\n\u001b[1;32m     12\u001b[0m \u001b[0mclf\u001b[0m\u001b[0;34m.\u001b[0m\u001b[0mfit\u001b[0m\u001b[0;34m(\u001b[0m\u001b[0mx_train\u001b[0m\u001b[0;34m,\u001b[0m \u001b[0my_train\u001b[0m\u001b[0;34m)\u001b[0m\u001b[0;34m\u001b[0m\u001b[0;34m\u001b[0m\u001b[0m\n",
      "\u001b[0;32m~/.local/lib/python3.8/site-packages/sklearn/utils/metaestimators.py\u001b[0m in \u001b[0;36m__get__\u001b[0;34m(self, obj, type)\u001b[0m\n\u001b[1;32m    112\u001b[0m                     \u001b[0;32mcontinue\u001b[0m\u001b[0;34m\u001b[0m\u001b[0;34m\u001b[0m\u001b[0m\n\u001b[1;32m    113\u001b[0m                 \u001b[0;32melse\u001b[0m\u001b[0;34m:\u001b[0m\u001b[0;34m\u001b[0m\u001b[0;34m\u001b[0m\u001b[0m\n\u001b[0;32m--> 114\u001b[0;31m                     \u001b[0mgetattr\u001b[0m\u001b[0;34m(\u001b[0m\u001b[0mdelegate\u001b[0m\u001b[0;34m,\u001b[0m \u001b[0mself\u001b[0m\u001b[0;34m.\u001b[0m\u001b[0mattribute_name\u001b[0m\u001b[0;34m)\u001b[0m\u001b[0;34m\u001b[0m\u001b[0;34m\u001b[0m\u001b[0m\n\u001b[0m\u001b[1;32m    115\u001b[0m                     \u001b[0;32mbreak\u001b[0m\u001b[0;34m\u001b[0m\u001b[0;34m\u001b[0m\u001b[0m\n\u001b[1;32m    116\u001b[0m             \u001b[0;32melse\u001b[0m\u001b[0;34m:\u001b[0m\u001b[0;34m\u001b[0m\u001b[0;34m\u001b[0m\u001b[0m\n",
      "\u001b[0;32m~/.local/lib/python3.8/site-packages/sklearn/svm/_base.py\u001b[0m in \u001b[0;36mpredict_proba\u001b[0;34m(self)\u001b[0m\n\u001b[1;32m    664\u001b[0m         \u001b[0mdatasets\u001b[0m\u001b[0;34m.\u001b[0m\u001b[0;34m\u001b[0m\u001b[0;34m\u001b[0m\u001b[0m\n\u001b[1;32m    665\u001b[0m         \"\"\"\n\u001b[0;32m--> 666\u001b[0;31m         \u001b[0mself\u001b[0m\u001b[0;34m.\u001b[0m\u001b[0m_check_proba\u001b[0m\u001b[0;34m(\u001b[0m\u001b[0;34m)\u001b[0m\u001b[0;34m\u001b[0m\u001b[0;34m\u001b[0m\u001b[0m\n\u001b[0m\u001b[1;32m    667\u001b[0m         \u001b[0;32mreturn\u001b[0m \u001b[0mself\u001b[0m\u001b[0;34m.\u001b[0m\u001b[0m_predict_proba\u001b[0m\u001b[0;34m\u001b[0m\u001b[0;34m\u001b[0m\u001b[0m\n\u001b[1;32m    668\u001b[0m \u001b[0;34m\u001b[0m\u001b[0m\n",
      "\u001b[0;32m~/.local/lib/python3.8/site-packages/sklearn/svm/_base.py\u001b[0m in \u001b[0;36m_check_proba\u001b[0;34m(self)\u001b[0m\n\u001b[1;32m    631\u001b[0m     \u001b[0;32mdef\u001b[0m \u001b[0m_check_proba\u001b[0m\u001b[0;34m(\u001b[0m\u001b[0mself\u001b[0m\u001b[0;34m)\u001b[0m\u001b[0;34m:\u001b[0m\u001b[0;34m\u001b[0m\u001b[0;34m\u001b[0m\u001b[0m\n\u001b[1;32m    632\u001b[0m         \u001b[0;32mif\u001b[0m \u001b[0;32mnot\u001b[0m \u001b[0mself\u001b[0m\u001b[0;34m.\u001b[0m\u001b[0mprobability\u001b[0m\u001b[0;34m:\u001b[0m\u001b[0;34m\u001b[0m\u001b[0;34m\u001b[0m\u001b[0m\n\u001b[0;32m--> 633\u001b[0;31m             raise AttributeError(\"predict_proba is not available when \"\n\u001b[0m\u001b[1;32m    634\u001b[0m                                  \" probability=False\")\n\u001b[1;32m    635\u001b[0m         \u001b[0;32mif\u001b[0m \u001b[0mself\u001b[0m\u001b[0;34m.\u001b[0m\u001b[0m_impl\u001b[0m \u001b[0;32mnot\u001b[0m \u001b[0;32min\u001b[0m \u001b[0;34m(\u001b[0m\u001b[0;34m'c_svc'\u001b[0m\u001b[0;34m,\u001b[0m \u001b[0;34m'nu_svc'\u001b[0m\u001b[0;34m)\u001b[0m\u001b[0;34m:\u001b[0m\u001b[0;34m\u001b[0m\u001b[0;34m\u001b[0m\u001b[0m\n",
      "\u001b[0;31mAttributeError\u001b[0m: predict_proba is not available when  probability=False"
     ]
    }
   ],
   "source": [
    "from sklearn.pipeline import make_pipeline\n",
    "from sklearn.preprocessing import StandardScaler\n",
    "from sklearn.ensemble import BaggingRegressor\n",
    "from sklearn.datasets import make_regression\n",
    "from sklearn.svm import SVR\n",
    "from sklearn.svm import SVC\n",
    "from sklearn.model_selection import cross_val_score\n",
    "\n",
    "\n",
    "y_pred_proba = clf.predict_proba(x_test)\n",
    "\n",
    "clf.fit(x_train, y_train)\n",
    "y_pred = clf.predict(x_test) \n",
    "\n",
    "\n",
    "\n",
    "y_predictions = []\n",
    "for i in range(len(y_pred_proba)):\n",
    "    \n",
    "    y_predictions.append( [y_pred_proba[i][0], sum(y_pred_proba[i][1:])])\n",
    "    #y_predictions.append(sum(y_pred_proba[i][1:]))\n",
    "    \n",
    "#print(y_predictions)\n",
    "## om gissning är över 0.75 då är det en tillräckligt bra estimation. \n",
    "\n",
    "final_predictions = []\n",
    "for pred in y_predictions:\n",
    "    final_predictions.append((pred[1]))\n",
    "\n",
    "print(final_predictions)\n",
    "#print(len(final_predictions))"
   ]
  },
  {
   "cell_type": "code",
   "execution_count": null,
   "metadata": {},
   "outputs": [],
   "source": [
    "### CELL FÖR CROSS-VALIDATION \n",
    "\n",
    "random_forest = RandomForestClassifier(max_features=13, n_estimators=200,\n",
    "                                       min_samples_leaf=50, n_jobs=-1)\n",
    "\n"
   ]
  },
  {
   "cell_type": "code",
   "execution_count": null,
   "metadata": {},
   "outputs": [],
   "source": [
    "import csv\n",
    "\n",
    "index = np.arange(0,150,1)\n",
    "\n",
    "#print(index)\n",
    "\n",
    "with open(\"nutestarvi.csv\", 'w', newline='') as myfile:\n",
    "    wr = csv.writer(myfile, quoting=csv.QUOTE_ALL)\n",
    "    wr.writerow(['id','expected'])\n",
    "    for i in range(len(final_predictions)):\n",
    "        \n",
    "        wr.writerow([i, final_predictions[i]])\n",
    "    \n",
    "        \n",
    "    \n",
    "    \n",
    "test1 = pd.read_csv(\"nutestarvi.csv\", delimiter=\",\")\n",
    "test1"
   ]
  },
  {
   "cell_type": "code",
   "execution_count": null,
   "metadata": {},
   "outputs": [],
   "source": []
  },
  {
   "cell_type": "code",
   "execution_count": null,
   "metadata": {},
   "outputs": [],
   "source": []
  }
 ],
 "metadata": {
  "kernelspec": {
   "display_name": "Python 3",
   "language": "python",
   "name": "python3"
  },
  "language_info": {
   "codemirror_mode": {
    "name": "ipython",
    "version": 3
   },
   "file_extension": ".py",
   "mimetype": "text/x-python",
   "name": "python",
   "nbconvert_exporter": "python",
   "pygments_lexer": "ipython3",
   "version": "3.8.6"
  }
 },
 "nbformat": 4,
 "nbformat_minor": 4
}
